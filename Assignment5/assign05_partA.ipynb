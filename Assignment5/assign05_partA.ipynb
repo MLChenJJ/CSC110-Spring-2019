{
 "cells": [
  {
   "cell_type": "markdown",
   "metadata": {},
   "source": [
    "# CSC 110, Spring 2019\n",
    "\n",
    "\n",
    "## Assignment 5, part A\n",
    "\n",
    "\n",
    "**Due: Monday, March 25, 2019, 9:00 am (via submission to conneX)**\n"
   ]
  },
  {
   "cell_type": "code",
   "execution_count": null,
   "metadata": {},
   "outputs": [],
   "source": [
    "# Please change the two comment lines below to indicate your name & student number.\n",
    "# Name: Justin Trudeau\n",
    "# Student #: V00654321"
   ]
  },
  {
   "cell_type": "markdown",
   "metadata": {},
   "source": [
    "### Important Note\n",
    "\n",
    "This is the first part (part A) of a two-part assignment. The second part (part B) is in the file named ```assign05_b.ipynb```.\n",
    "\n",
    "### Introduction\n",
    "\n",
    "In this assignment you will write some Python statements within this Jupyter Notebook that are answers to the posed programming questions. By saving what you have written into the notebook, and submitting the resulting IPython file via conneX, the teaching team will be able to evaluate your work.\n",
    "\n",
    "You are encouraged to create your own notebooks in order to experiment with programming ideas. Once you have solutions that you wish to submit, they can be copy-and-pasted into this notebook. You should, however, always ensure your Python statements do work by evaluating them within this notebook.\n",
    "\n",
    "### Computing summary weather statistics\n",
    "\n",
    "In the lectures about lists we have seen some Python code examples that involve the processing of lists containing weather statistics. The original source of the values shown in the slides was taken from part of the Environment Canada website that serves up historical data:\n",
    "\n",
    "    http://climate.weather.gc.ca/historical_data/search_historic_data_e.html\n",
    "    \n",
    "Data can be provied by that website using the Comma Separated Value (CSV) format which is stored in text files normally using a CSV suffix. We will not work directly with such files in this part of the assignment, but instead will work with pre-packaged strings.\n",
    "\n",
    "In the code cell below are:\n",
    "* two global variables which each corresponding to a list of strings, ```WEATHER_LIST_01``` and ```WEATHER_LIST_02```. Each list contains the comma-separated values for a single month's weather measurements;\n",
    "* a nearly empty function called ```compute_month_stats()``` which you are to complete for this part of the assignment; and\n",
    "* a ```main()``` function that calls ```compute_month_stats()```.\n",
    "\n",
    "The docstring comment for ```compute_month_stats()``` describes the format of each string, and also describes what the function must compute. Note that the function which you are to complete ***must not produce output to the console*** (*i.e.*, must not call ```print()```). If the function is correctly written, the output of the program when ```WEATHER_LIST_01``` is given as the argument to the function will be:\n",
    "\n",
    "```\n",
    "4,23.1,-8.0,91.0,14\n",
    "5,26.3,4.1,1.8,0\n",
    "```\n",
    "\n",
    "As part of your solution you will need to use string-to-list functions such as ```split()```, as well as ```for``` loops and various kinds of ```if``` statements (and many other kinds of Python elements, too). You may use code from lecture slides but you **must** include a comment indicating which slides were used.\n",
    "\n",
    "And here are some additional important notes:\n",
    "1. Please remember that strings are not integers or floats. You may need to call ```int()```, ```float()```, and ```str()``` as appropriate.\n",
    "1. The data from Environment Canada is not necessarily always complete as equipment at measurement stations often malfunctions. Data provided to you has been cleaned up such that you need not worry about handling errors in the data. That is, the keen-eyed among you will notice that there may be fewer strings in a list than there are days in a month. ***Therefore your solution must not make any assumptions about the number of days in a month.***\n",
    "1. ***You are not permitted to ```import``` modules into your solution (*i.e.*, submitted solutions may not use ```re```, ```pandas```, ```itertools```, etc.). The only exception is the ```sys``` module.***"
   ]
  },
  {
   "cell_type": "code",
   "execution_count": 2,
   "metadata": {},
   "outputs": [
    {
     "name": "stdout",
     "output_type": "stream",
     "text": [
      "4,23.1,-8.0,91.0,14\n",
      "5,26.3,4.1,1.8,0\n"
     ]
    }
   ],
   "source": [
    "WEATHER_LIST_01=['2017,04,01,4.7,-5.4,0.0', '2017,04,02,0.6,-2.5,5.6', '2017,04,03,2.2,-2.9,0.0', '2017,04,04,6.8,-3.7,0.0', '2017,04,05,2.8,-1.3,0.0', '2017,04,06,6.8,-0.1,18.4', '2017,04,07,11.6,2.7,27.3', '2017,04,08,7.5,1.1,0.0', '2017,04,09,9.1,1.2,0.0', '2017,04,10,11.3,0.3,0.0', '2017,04,11,23.1,3.5,0.0', '2017,04,12,14.2,1.7,0.0', '2017,04,13,14.5,2.0,0.0', '2017,04,14,11.1,1.7,0.0', '2017,04,15,15.0,1.9,0.0', '2017,04,16,17.9,3.1,0.0', '2017,04,17,10.9,-1.2,0.2', '2017,04,18,5.3,-6.2,0.0', '2017,04,19,5.0,-8.0,0.0', '2017,04,20,2.7,-3.3,0.0', '2017,04,21,10.6,-2.8,0.0', '2017,04,22,6.0,-3.9,5.5', '2017,04,23,4.9,-0.1,3.4', '2017,04,24,14.9,0.4,0.0', '2017,04,25,12.6,-2.5,0.0', '2017,04,26,10.8,3.9,9.4', '2017,04,27,15.3,9.6,19.0', '2017,04,28,15.6,8.5,2.2', '2017,04,29,20.4,5.8,0.0', '2017,04,30,11.3,3.4,0.0']\n",
    "WEATHER_LIST_02=['2015,05,01,18.0,9.0,0.0', '2015,05,02,16.0,4.1,0.0', '2015,05,04,17.6,5.3,0.0', '2015,05,05,16.2,6.1,0.4', '2015,05,07,19.6,4.5,0.0', '2015,05,08,22.8,5.5,0.0', '2015,05,09,22.5,7.0,0.0', '2015,05,10,18.8,8.1,0.0', '2015,05,11,16.8,10.3,0.0', '2015,05,12,17.5,10.8,0.0', '2015,05,13,16.8,10.5,0.0', '2015,05,14,16.8,9.2,1.2', '2015,05,15,19.9,7.3,0.0', '2015,05,16,18.5,10.6,0.0', '2015,05,17,19.2,9.6,0.0', '2015,05,18,21.3,9.2,0.0', '2015,05,19,22.9,9.2,0.0', '2015,05,20,22.4,7.9,0.0', '2015,05,21,22.3,8.3,0.0', '2015,05,22,18.9,9.8,0.2', '2015,05,23,18.5,8.8,0.0', '2015,05,24,18.5,9.4,0.0', '2015,05,25,15.6,8.1,0.0', '2015,05,26,19.7,9.4,0.0', '2015,05,27,21.4,9.0,0.0', '2015,05,28,23.5,9.1,0.0', '2015,05,29,26.3,9.9,0.0', '2015,05,30,22.5,8.8,0.0', '2015,05,31,20.5,7.7,0.0']\n",
    "\n",
    "\n",
    "def compute_month_stats(data):\n",
    "    \"\"\"\n",
    "    function: compute_month_stats\n",
    "    \n",
    "    Given a list of strings containing weather data for one month,\n",
    "    compute summary statistics for that month (maximimum temperature,\n",
    "    minimum temperature, number of days with freezing temperatures,\n",
    "    total precipitation) and return all this as a tuple.\n",
    "       \n",
    "    Input parameter:\n",
    "    ----------------\n",
    "    \n",
    "    * data: A list of strings where each string contains one day's\n",
    "    weather measurements. All of the data in the list is from a\n",
    "    single month. The values are separated by commas, and each day's\n",
    "    string has the same number of values. The order of these values\n",
    "    is: year, month, day, high temp (Celsius), low temp (Celsius),\n",
    "    and precipitation (mm).\n",
    "      \n",
    "    Output:\n",
    "    -------\n",
    "    *  There is no output to the console from this function.\n",
    "    \n",
    "    Return value:\n",
    "    -------------\n",
    "    A tuple with five values is returned. The values are: the month\n",
    "    number corresponding to the data, the maximum high temperature,\n",
    "    the minimum low temperature, the total precipitation for the\n",
    "    month (rounded to one decimal place), and the number of days\n",
    "    having freezing or below-freezing temperatures (i.e., 0.0 C or\n",
    "    lower).\n",
    "    \"\"\"\n",
    "    \n",
    "    return(0,0,0,0,0)\n",
    "    \n",
    "\n",
    "def main():\n",
    "    weather_data = [WEATHER_LIST_01, WEATHER_LIST_02]\n",
    "    \n",
    "    for month_data in weather_data:\n",
    "        stats = compute_month_stats(month_data)\n",
    "        for val in stats[:-1]:\n",
    "            print(val, \",\", sep=\"\", end=\"\")\n",
    "        print(stats[-1])\n",
    "    \n",
    "main()"
   ]
  },
  {
   "cell_type": "markdown",
   "metadata": {},
   "source": [
    "#### Marks\n",
    "\n",
    "* Part A is worth 4 marks (this file)\n",
    "* Part B is worth 6 marks (in ```assign05_b.ipynb```).\n",
    "* Total for assignment: 10 marks\n"
   ]
  },
  {
   "cell_type": "markdown",
   "metadata": {},
   "source": [
    "Copyright: 2019, Michael Zastre, University of Victoria, Canada"
   ]
  }
 ],
 "metadata": {
  "kernelspec": {
   "display_name": "Python 3",
   "language": "python",
   "name": "python3"
  },
  "language_info": {
   "codemirror_mode": {
    "name": "ipython",
    "version": 3
   },
   "file_extension": ".py",
   "mimetype": "text/x-python",
   "name": "python",
   "nbconvert_exporter": "python",
   "pygments_lexer": "ipython3",
   "version": "3.6.4"
  }
 },
 "nbformat": 4,
 "nbformat_minor": 2
}
