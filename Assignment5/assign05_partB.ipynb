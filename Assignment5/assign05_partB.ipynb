{
 "cells": [
  {
   "cell_type": "markdown",
   "metadata": {},
   "source": [
    "##### CSC 110, Spring 2019\n",
    "\n",
    "\n",
    "## Assignment 5, part B\n",
    "\n",
    "\n",
    "**Due: Monday, March 25, 2019, 9:00 am (via submission to conneX)**\n"
   ]
  },
  {
   "cell_type": "code",
   "execution_count": null,
   "metadata": {},
   "outputs": [],
   "source": [
    "# Please change the two comment lines below to indicate your name & student number.\n",
    "# Name: Michael Cohen\n",
    "# Student #: V00432165"
   ]
  },
  {
   "cell_type": "markdown",
   "metadata": {},
   "source": [
    "### Important Note\n",
    "\n",
    "This is the second part (part B) of a two-part assignment. The first part (part A) is in the file named ```assign05_a.ipynb```\n",
    "\n",
    "### Introduction\n",
    "\n",
    "In this assignment you will write some Python statements within this Jupyter Notebook that are answers to the posed programming questions. By saving what you have written into the notebook, and submitting the resulting IPython file via conneX, the teaching team will be able to evaluate your work.\n",
    "\n",
    "You are encouraged to create your own notebooks in order to experiment with programming ideas. Once you have solutions that you wish to submit, they can be copy-and-pasted into this notebook. You should, however, always ensure your Python statements do work by evaluating them within this notebook.\n",
    "\n",
    "### Computing summary weather statistics, now with CSV files\n",
    "\n",
    "The first part of this assignment presented to you some cleaned-up data extracted from CSV files. You then transformed this data in order to compute weather statistics. In this part of the assignment you will utilize file-input operations to retrieve data stored in CSV files themselves.\n",
    "\n",
    "You are provided with a ZIP file containing 12 different CSV files, each containing daily measurements corresponding to single year from a single measurement station some place in Canada. ***CSV files are really just text files and therefore all routines used to read from a text file can be used with CSV files.*** These files are not identical to what is provided by Environment Canada (i.e., they have been cleaned up to eliminate dates with measurement errors) but they are clean enough that your solution for Part B need not include any handling of data errors contained within a CSV file.\n",
    "\n",
    "You are to complete a function named ```compute_all_month_stats()``` that takes a single parameter (corresponding to the name of a file) and returns a list of tuples, one tuple per month of weather statistics. The ```main()``` function provided will obtain a filename from the user and call your function with the filename as a parameter. ***If that file exists*** your function will return the computed list of tuples and the ```main()``` function (already provided) will print out that list’s contents. ***If that file does not exist*** then your function will output an error message and return ```None``` instead of a list.\n",
    "\n",
    "For example, if the user provides ```2018_weather_uvic.csv``` when prompted, the program will call ```compute_all_month_stats()``` with that string as a parameter. This function will compute for each month the statistics as described in part A, and the tuple for each month will have the format described in part A. Therefore given our example, the data returned from the function (*i.e.*, 12 tuples) will result in ```main()``` producing this output:\n",
    "```\n",
    "1,12.4,1.4,144.5,0\n",
    "2,13.7,-4.0,77.3,9\n",
    "3,15.1,-1.3,13.8,2\n",
    "4,22.6,-0.6,71.0,1\n",
    "5,26.1,5.2,6.9,0\n",
    "6,30.8,5.1,20.6,0\n",
    "7,30.3,7.5,0.9,0\n",
    "8,31.4,9.5,1.5,0\n",
    "9,26.1,5.7,27.4,0\n",
    "10,18.2,3.8,58.6,0\n",
    "11,15.7,1.8,130.1,0\n",
    "12,14.1,-1.1,131.5,4```\n",
    "\n",
    "As a second example, if the user provides ```not_a_file.csv``` when prompted, then the program will call ```compute_all_month_stats()``` with that string as a parameter. As no such file exists, the function will print an error message and ```main()``` will have nothing to print further.\n",
    "\n",
    "***You are welcome – and encouraged! – to use your code from part A to help construct your solution to this part B. However, you are not required to do so.***\n",
    "\n",
    "\n",
    "And here are some additional important notes:\n",
    "1. The first line of each CSV file does not contain measurement data but rather a description of the data fields contained in each line. The data fields you will need for this part are: ```Year```, ```Month```, ```Day```, ```Max Temp (°C)```, ```Min Temp (°C)```, and ```Total Precip (mm)```. You should read this first line from the file, but you need not do anything with it (i.e., the value returned from a call to ```readline()``` may be safely ignored). Also you may manually count the position of each field in the line, and hardcode those numbers in your solution (*e.g.*, ```2``` for ```Month```). ***You may assume that all files have the same number and order of data fields.***\n",
    "1. Please remember that strings are not integers or floats. You may need to call ```int()```, ```float()```, and ```str()``` when and where appropriate.\n",
    "1. The expected output for each of the provided CSV files is contained in a filename with a similar prefix but using ```.txt``` as the suffix. For example, the expected output for ```2018_weather_uvic.csv``` will be found ```2018_weather_uvic.txt```. These ```.txt``` files are contained in the provided ZIP file.\n",
    "1. Use ```try``` and ```except``` when writing code that deals with the possibility of a non-existent file.\n",
    "1. The data from Environment Canada is not necessarily always complete as equipment at measurement stations often malfunctions. ***Therefore your solution must not make any assumptions about the number of days in a month.***\n",
    "1. ***You are not permitted to ```import``` modules into your solution (*i.e.*, submitted solutions may not use ```re```, ```pandas```, ```itertools```, etc.). The only exception is the ```sys``` module.***"
   ]
  },
  {
   "cell_type": "code",
   "execution_count": null,
   "metadata": {
    "scrolled": true
   },
   "outputs": [],
   "source": [
    "def compute_all_month_stats(filename):\n",
    "    \"\"\"\n",
    "    function: compute_all_month_stats\n",
    "    \n",
    "    Given a filename\n",
    "       \n",
    "    Input parameter:\n",
    "    ----------------\n",
    "    \n",
    "    * filename: Pathname for some CSV file containing weather\n",
    "    data for a year.\n",
    "    \n",
    "    If the file cannot be opened, the function prints and error\n",
    "    message and returns None.\n",
    "    \n",
    "    If the file does exist, the function assumes the data is\n",
    "    organized in the comma-separated-value (CSV) format.\n",
    "    \n",
    "      \n",
    "    Output:\n",
    "    -------\n",
    "    *  The only output produced is if the file cannot be opened.\n",
    "    \n",
    "    \n",
    "    Return value:\n",
    "    -------------\n",
    "    A list with 12 tuples, one per month of the year, is produced.\n",
    "    Each tuple consists of five values: the month number corresponding\n",
    "    to the data, the maximum high temperature, the minimum low temperature,\n",
    "    the total precipitation for the month (rounded to one decimal place),\n",
    "    and the number of days having freezing or below-freezing temperatures\n",
    "    (i.e., 0.0 C or lower). The tuples in the list must be in ascending\n",
    "    order of month.\n",
    "    \"\"\"\n",
    " \n",
    "    return [(0,0,0,0,0)] * 12 \n",
    "\n",
    "\n",
    "def main():\n",
    "    filename = input(\"What is the name of the CSV file (include suffix!): \")\n",
    "    all_stats = compute_all_month_stats(filename)\n",
    "    \n",
    "    if all_stats != None:\n",
    "        for (month, max, min, precip, freezing) in all_stats:\n",
    "            print(month, max, min, precip, freezing, sep=\",\")\n",
    "            \n",
    "\n",
    "main()"
   ]
  },
  {
   "cell_type": "markdown",
   "metadata": {},
   "source": [
    "#### Marks\n",
    "\n",
    "* Part A is worth 4 marks (in ```assign05_a.ipynb```).\n",
    "* Part B is worth 6 marks (this file).\n",
    "* Total for assignment: 10 marks\n"
   ]
  },
  {
   "cell_type": "markdown",
   "metadata": {},
   "source": [
    "Copyright: 2019, Michael Zastre, University of Victoria, Canada"
   ]
  }
 ],
 "metadata": {
  "kernelspec": {
   "display_name": "Python 3",
   "language": "python",
   "name": "python3"
  },
  "language_info": {
   "codemirror_mode": {
    "name": "ipython",
    "version": 3
   },
   "file_extension": ".py",
   "mimetype": "text/x-python",
   "name": "python",
   "nbconvert_exporter": "python",
   "pygments_lexer": "ipython3",
   "version": "3.6.4"
  }
 },
 "nbformat": 4,
 "nbformat_minor": 2
}
