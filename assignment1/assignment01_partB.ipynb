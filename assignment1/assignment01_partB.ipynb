{
 "cells": [
  {
   "cell_type": "markdown",
   "metadata": {},
   "source": [
    "# CSC 110, Spring 2019\n",
    "\n",
    "\n",
    "## Assignment #1\n",
    "\n",
    "### Part B\n",
    "\n",
    "\n",
    "**Due: Wednesday, January 23, 2019, 9:00 am (via submission to conneX)**\n"
   ]
  },
  {
   "cell_type": "code",
   "execution_count": 2,
   "metadata": {},
   "outputs": [],
   "source": [
    "# Please change the two comment lines below to indicate your name & student #.\n",
    "# Name: Ariane Grande\n",
    "# Student #: V00123456"
   ]
  },
  {
   "cell_type": "markdown",
   "metadata": {},
   "source": [
    "### Introduction\n",
    "\n",
    "In this assignment you will write some Python statements within this Jupyter Notebook that are answers to the posed programming questions. By saving what you have written into the notebook, and submitting the resulting IPython file via conneX, the teaching team will be able to evaluate your work.\n",
    "\n",
    "Your are encouraged to create your own notebooks in order to experiment with programming ideas. Once you have solutions that you wish to submit, these can be copy-and-pasted into this notebook. You should, however, always ensure your Python statements do work by evaluating them within this notebook.\n",
    "\n",
    "**Do not change the name of this notebook file.**"
   ]
  },
  {
   "cell_type": "markdown",
   "metadata": {},
   "source": [
    "### Registered Education Savings Program\n",
    "\n",
    "Many parents in Canada establish a Registered Education Savings Program (RESP) for each of their children. One of the greatest benefits of an RESP is the way investment returns compound themselves over many years. That is, a relatively small amount set aside each month for the child grows into a substantial sum by the time that child is ready for university (i.e., aged 18). There are other benefits, too, in that the federal government not only ensures such savings are tax-free but also matches parent contributions up to a certain amount. For this question, however, we will focus only on the effect of compounding investment returns.\n",
    "\n",
    "Let us suppose little Nicky is aged 3 when an RESP is started. Let us also assume that Nicky's parents save $150 each month for the RESP, and it is invested in a security that averages 10% growth per year. (I note that there is no bank that will offer such an interest rate, but because an RESP may be invested in stocks and bonds, that 5% rate is not entirely impossible.) Furthermore:\n",
    "\n",
    "* Our formula takes into account the **monthly** savings of $150, and so any rate calculations must divide an annual rate by 12. For our example, the rate of increase each month is ```i = 0.10 / 12```.\n",
    "\n",
    "* As a consequence of this, we must count the number of months of savings, not just the number of years. As Nicky is 3 when the RESP starts, and will be 18 when investment ends, the number of saved months is ```n = (18 - 3) * 12```.\n",
    "\n",
    "The formula for calculating the balance of such an investment, and assuming the investment returns are compounded monthly, can be computed as:\n",
    "\n",
    "$$RESP = M \\left[\\frac{(1 + i)^n - 1}{i}\\right]$$\n",
    "\n",
    "which means in Nicky's case the value of the RESP at age 18 would be ```$62170.55```.\n",
    "\n",
    "Write a program that performs the RESP calculation. The program must ask the user to input the following (**and in this order**):\n",
    "\n",
    "1. The age of the child at the start of the RESP (i.e., assume the RESP starts on the child's birthday)\n",
    "1. The amount to be invested each month\n",
    "1. The annual rate of return for the investment, in percent.\n",
    "\n",
    "\n",
    "Once the input data has been entered, the program must calculate and display the amount of money that will be in the RESP, given the provided information, once the child reaches the age of 18. **The user must enter the investment rate as a percentage, but without the trailing '%' sign. That is, 2% would be entered as ```2``` and not as ```2%``` or ```0.02```. Therefore your program will have to divide the input by 100 to move the decimal point to the correct position.**\n",
    "\n",
    "Formula is based on discussion at https://www.investopedia.com/retirement/calculating-present-and-future-value-of-annuities/."
   ]
  },
  {
   "cell_type": "code",
   "execution_count": 2,
   "metadata": {},
   "outputs": [
    {
     "name": "stdout",
     "output_type": "stream",
     "text": [
      "Please input the age of the child at the start of the RESP:2\n",
      "Please input amount to be invested each month:100\n",
      "Please input the annual rate of return for the investment, in percent.10\n",
      "The amount of money that will be in the RESP is： 47043.637561567375\n"
     ]
    }
   ],
   "source": [
    "# Code for Part B is to appear in this notebook cell\n",
    "#ask the user to input the start age\n",
    "start_age = int(input(\"Please input the age of the child at the start of the RESP:\"))\n",
    "\n",
    "#ask the user to input the monthly amount\n",
    "M = int(input(\"Please input amount to be invested each month:\"))\n",
    "\n",
    "#ask the user to input the annual rate of return for the investment, in percent.\n",
    "rate = int(input(\"Please input the annual rate of return for the investment, in percent:\"))\n",
    "\n",
    "i = rate/100/12\n",
    "\n",
    "n=(18-start_age)*12\n",
    "\n",
    "#calculate the amount of money that will be in the RESP\n",
    "RESP = M*(((1+i)**n-1)/i)\n",
    "\n",
    "#print the result\n",
    "print(\"The amount of money that will be in the RESP is：\", RESP)\n",
    "\n",
    "\n"
   ]
  },
  {
   "cell_type": "markdown",
   "metadata": {},
   "source": [
    "### Marks\n",
    "\n",
    "* Part A is worth 3 marks\n",
    "* Part B is worth 7 marks\n"
   ]
  },
  {
   "cell_type": "markdown",
   "metadata": {},
   "source": [
    "Copyright 2019 Mike Zastre, University of Victoria"
   ]
  }
 ],
 "metadata": {
  "kernelspec": {
   "display_name": "Python 3",
   "language": "python",
   "name": "python3"
  },
  "language_info": {
   "codemirror_mode": {
    "name": "ipython",
    "version": 3
   },
   "file_extension": ".py",
   "mimetype": "text/x-python",
   "name": "python",
   "nbconvert_exporter": "python",
   "pygments_lexer": "ipython3",
   "version": "3.6.4"
  }
 },
 "nbformat": 4,
 "nbformat_minor": 2
}
