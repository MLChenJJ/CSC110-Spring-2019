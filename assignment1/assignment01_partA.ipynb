{
 "cells": [
  {
   "cell_type": "markdown",
   "metadata": {},
   "source": [
    "# CSC 110, Spring 2019\n",
    "\n",
    "\n",
    "## Assignment #1\n",
    "\n",
    "### Part A\n",
    "\n",
    "\n",
    "**Due: Wednesday, January 23, 2019, 9:00 am (via submission to conneX)**\n"
   ]
  },
  {
   "cell_type": "code",
   "execution_count": null,
   "metadata": {},
   "outputs": [],
   "source": [
    "# Please change the two comment lines below to indicate your name & student #.\n",
    "# Name: Ariane Grande\n",
    "# Student #: V00123456"
   ]
  },
  {
   "cell_type": "markdown",
   "metadata": {},
   "source": [
    "### Introduction\n",
    "\n",
    "In this assignment you will write some Python statements within this Jupyter Notebook that are answers to the posed programming questions. By saving what you have written into the notebook, and submitting the resulting IPython file via conneX, the teaching team will be able to evaluate your work.\n",
    "\n",
    "Your are encouraged to create your own notebooks in order to experiment with programming ideas. Once you have solutions that you wish to submit, these can be copy-and-pasted into this notebook. You should, however, always ensure your Python statements do work by evaluating them within this notebook.\n",
    "\n",
    "**Do not change the name of this notebook file.**"
   ]
  },
  {
   "cell_type": "markdown",
   "metadata": {},
   "source": [
    "### Dimensions of a Roman ruin\n",
    "\n",
    "In this fanciful exercise, you are part of an archaelogical team that is working some place in Great Britain. The team has found a ruin from Ancient Rome, and you have been given a diagram showing the layout of perimeter of the original building that corresponds to the ruin:\n",
    "\n",
    "<img src=\"https://github.com/zastre/uvic/blob/master/roman_bath_01_plain.jpg?raw=true\" width=\"300\">\n",
    "\n",
    "You are asked to compute the inside area of this ruin. In order to do this, you will write a bit of Python code. Since you need accurate measurements, here is the previous diagram but with lengths shown in metres:\n",
    "\n",
    "<img src=\"https://github.com/zastre/uvic/blob/master/roman_bath_01_all.jpg?raw=true\" width=\"600\">\n",
    "\n",
    "Here are a few further observations:\n",
    "* The walls around B and C are semicircles\n",
    "* Building parts D and E are squares\n",
    "* Area A is actually everything enclosed in the walls.\n",
    "\n",
    "Your task is to:\n",
    "* Compute the values of areas B and C, storing them in appropriately-name variables.\n",
    "* Compute the values of areas D and E, storing them in appropriately-named variables.\n",
    "* Compute the value of area A, storing it in an appropriately-named variable.\n",
    "* Output the values of B, C, D, E, and A, each on a separate line.\n",
    "\n",
    "Reminder: The formula for the perimeter of a circle is $\\pi d$ and for the area of a circle is $\\pi r^2$. For the value of $\\pi$ you **must** use ```3.14159```.\n"
   ]
  },
  {
   "cell_type": "code",
   "execution_count": 1,
   "metadata": {},
   "outputs": [
    {
     "name": "stdout",
     "output_type": "stream",
     "text": [
      "The value of A is: 317.83734375\n",
      "The value of B is: 9.81746875\n",
      "The value of C is: 39.269875\n",
      "The value of D is: 25\n",
      "The value of E is: 6.25\n"
     ]
    }
   ],
   "source": [
    "# Code for Part A is appear in this notebook cell.\n",
    "#define a variable to represent pi\n",
    "pi = 3.14159\n",
    "\n",
    "\n",
    "\n",
    "\n",
    "\n",
    "#define a variable to represent the radius of B\n",
    "radius_B = 5/2\n",
    "#calculate the size of area B\n",
    "area_B = pi*radius_B*radius_B/2\n",
    "\n",
    "#define a variable to represent the radius of C\n",
    "radius_C = 10/2\n",
    "#calculate the size of area C\n",
    "area_C = pi*radius_C*radius_C/2\n",
    "\n",
    "#calculate the size of area D\n",
    "area_D = 5*5\n",
    "\n",
    "#calculate the size of area E\n",
    "area_E = 2.5*2.5\n",
    "\n",
    "\n",
    "#the size of A is a big rectangle minus the area of E\n",
    "\n",
    "area_A = (30-5)*10-area_E+area_B+area_C+area_D\n",
    "\n",
    "#print the value of A\n",
    "print(\"The value of A is:\",area_A)\n",
    "\n",
    "#print the value of B\n",
    "print(\"The value of B is:\",area_B)\n",
    "\n",
    "#print the value of C\n",
    "print(\"The value of C is:\",area_C)\n",
    "\n",
    "#print the value of D\n",
    "print(\"The value of D is:\",area_D)\n",
    "\n",
    "#print the value of E\n",
    "print(\"The value of E is:\",area_E)\n",
    "\n",
    "\n",
    "\n",
    "\n",
    "\n",
    "\n",
    "\n"
   ]
  },
  {
   "cell_type": "markdown",
   "metadata": {},
   "source": [
    "### Marks\n",
    "\n",
    "* Part A is worth 3 marks\n",
    "* Part B is worth 7 marks\n"
   ]
  },
  {
   "cell_type": "markdown",
   "metadata": {},
   "source": [
    "Copyright 2019 Mike Zastre, University of Victoria"
   ]
  }
 ],
 "metadata": {
  "kernelspec": {
   "display_name": "Python 3",
   "language": "python",
   "name": "python3"
  },
  "language_info": {
   "codemirror_mode": {
    "name": "ipython",
    "version": 3
   },
   "file_extension": ".py",
   "mimetype": "text/x-python",
   "name": "python",
   "nbconvert_exporter": "python",
   "pygments_lexer": "ipython3",
   "version": "3.6.4"
  }
 },
 "nbformat": 4,
 "nbformat_minor": 2
}
