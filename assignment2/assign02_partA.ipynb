{
 "cells": [
  {
   "cell_type": "markdown",
   "metadata": {},
   "source": [
    "# CSC 110, Spring 2019\n",
    "\n",
    "\n",
    "## Assignment #2\n",
    "\n",
    "\n",
    "**Due: Wednesday, February 6, 2019, 9:00 am (via submission to conneX)**\n"
   ]
  },
  {
   "cell_type": "code",
   "execution_count": null,
   "metadata": {},
   "outputs": [],
   "source": [
    "# Please change the two comment lines below to indicate your name & student number.\n",
    "# Name: Michael Zastre\n",
    "# Student #: V00654321"
   ]
  },
  {
   "cell_type": "markdown",
   "metadata": {},
   "source": [
    "### Introduction\n",
    "\n",
    "In this assignment you will write some Python statements within this Jupyter Notebook that are answers to the posed programming questions. By saving what you have written into the notebook, and submitting the resulting IPython file via conneX, the teaching team will be able to evaluate your work.\n",
    "\n",
    "Your are encouraged to create your own notebooks in order to experiment with programming ideas. Once you have solutions that you wish to submit, they can be copy-and-pasted into this notebook. You should, however, always ensure your Python statements do work by evaluating them within this notebook.\n",
    "\n",
    "**This notebook describes part A. Part B is described in another notebook.**"
   ]
  },
  {
   "cell_type": "markdown",
   "metadata": {},
   "source": [
    "### Part A: Product and shipping costs\n",
    "\n",
    "In the first part of this assignment you will play around with determining the cost of purchasing some specific number of product items. You will compute cost for the product and the cost of shipping, and this is based in party on the number of items purchased.\n",
    "\n",
    "Imagine you are writing a program to help a company named **Late-To-The-Game Fidget Spinners**. The price of one fidget spinner is $5.75 (Canadian), and each spinner weighs 95 grams. If up to four (4) spinners are purchased, there is no change to the price. However, higher purchase quantities do have discounts -- that is, as more spinners are purchased, the lower the cost per spinner:\n",
    "\n",
    "* from 5 to 9: 8% off\n",
    "* from 10 to 19: 15% off\n",
    "* from 20 to 59: 25% off\n",
    "* 60 to 89: 30% off\n",
    "* 90 or more: 35% off\n",
    "\n",
    "For example, if 27 fidget spinners are purchased, the cost will be ```5.75 * 0.75 * 27``` (i.e., 25% off the original price) which end up as ```116.4375``` which must be rounded to the closest cent, or ```116.44```. (When computing the cost of the spinners, only one price is used -- that is, we do not compute the cost for the first nine, then then next ten, then the next etc., etc.).\n",
    "\n",
    "This company is also an online enterprise and so must ship their product. For assignment simplicity, we will assume only one set of shipping rates. Shipping rates provided by the freignt company servicing the company are determined by the weight of the package in kilograms (where 1000 grams equals one kilogram). Note that the heavier the package to be shipped, the more expensive is the cost per pound:\n",
    "\n",
    "* 0.5 kg or less: \\$5.00 per kg\n",
    "* over 0.5 kg but less than 3 kg: \\$7.50 per kg\n",
    "* over 3 kg but less than 7 kg:$9.00 per kg\n",
    "* over 7 kg: \\$11 per kg\n",
    "\n",
    "In our running example, the weight in kilograms of 27 spinners is ```0.095 * 27``` which is ``2.565`` kg. Therefore the cost of shipping is ```2.565 * 7.50``` which is ``19.2375`` -- and again we round to the closest cent, i.e., ```19.24```\n",
    "\n",
    "Your program will:\n",
    "\n",
    "1. **Prompt** the user for a one number (integer) from 1 up to and including 200.\n",
    "1. If the number it outside this range (i.e., a negative number, or a number greater than 200), then the program will display the error message **Given quantity not allowed** and stop.\n",
    "1. Otherwise the program **computes the cost of the spinners and the cost of shipping**.\n",
    "1. Finally the program will **output** the cost of spinners, the cost of shipping, and total cost (i.e., sum of previous two items). The three numbers will each appear on their own line. Given the example above, the output would be:\n",
    "```\n",
    "Cost of 27 spinners: 116.44\n",
    "Cost of shipping: 19.24\n",
    "Total: 135.68```\n",
    "\n",
    "Your solution must make use of some combination of **if** statements, **if-else** statements, nested decision structures and **if-elif-else** statements (although you are not strictly required to use every one of the conditional-instruction forms just listed). For those who already know how to use lists and dictionary, you are **not** to use these in your solution.\n",
    "\n",
    "And some further notes on writing a solution:\n",
    "* Better solutions (i.e., ones getting more marks) will avoid answering the question in one big **if-elif-else** having 200 or so blocks (which would be exhausting to write).\n",
    "* You can take advantage of using temporary variables of your own choosing.\n",
    "* Please use the ```format()``` function to ensure the printed dollar amounts always have two decimal digits (e.g., 200.3 would be printed as ```$200.30```)."
   ]
  },
  {
   "cell_type": "code",
   "execution_count": 1,
   "metadata": {},
   "outputs": [
    {
     "name": "stdout",
     "output_type": "stream",
     "text": [
      "Please input the quantity of spinners you want to buy: 27\n",
      "Cost of    27  spinners :  116.44\n",
      "Cost of shipping: 19.24\n",
      "Total:  135.68\n"
     ]
    }
   ],
   "source": [
    "# Put in solution to Part A here.\n",
    "#\n",
    "while(True):\n",
    "    quantity = int(input(\"Please input the quantity of spinners you want to buy: \"))\n",
    "    if(quantity>=1 and quantity <=200):\n",
    "        if(quantity<=4):\n",
    "            cost = 5.75*quantity\n",
    "        elif(quantity>=5 and quantity<=9):\n",
    "            cost = 5.75*0.92*quantity\n",
    "        elif(quantity>=10 and quantity<=19):\n",
    "            cost = 5.75*0.85*quantity\n",
    "        elif(quantity>=20 and quantity<=59):\n",
    "            cost = 5.75*0.75*quantity\n",
    "        elif(quantity>=60 and quantity<=89):\n",
    "            cost = 5.75*0.7*quantity\n",
    "        else:\n",
    "            cost = 5.75*0.65*quantity\n",
    "        \n",
    "        weight = 0.095*quantity\n",
    "        if(weight<=0.5):\n",
    "            shipping_cost = 5.00*weight\n",
    "        elif(weight>0.5 and weight<=3):\n",
    "            shipping_cost = 7.50*weight\n",
    "        elif(weight>3 and weight<=7):\n",
    "            shipping_cost = 9.00*weight\n",
    "        else:\n",
    "            shipping_cost = 11*weight\n",
    "        print(\"Cost of\",format(quantity,\"5d\"),\" spinners : \", format(cost,\".2f\"))\n",
    "        print(\"Cost of shipping:\",format(shipping_cost,\".2f\"))\n",
    "        total = round(cost,2)+round(shipping_cost,2)\n",
    "        print(\"Total: \", format(total, \".2f\"))\n",
    "        break\n",
    "    else:\n",
    "        print(\"Given quantity not allowed !\")\n",
    "        break\n"
   ]
  },
  {
   "cell_type": "markdown",
   "metadata": {},
   "source": [
    "##### Marks\n",
    "\n",
    "* Part A is worth 6 marks\n",
    "* Part B is worth 4 marks\n",
    "* Total for assignment: 10 marks\n"
   ]
  },
  {
   "cell_type": "markdown",
   "metadata": {},
   "source": [
    "Copyright: 2019, Michael Zastre, University of Victoria, Canada"
   ]
  }
 ],
 "metadata": {
  "kernelspec": {
   "display_name": "Python 3",
   "language": "python",
   "name": "python3"
  },
  "language_info": {
   "codemirror_mode": {
    "name": "ipython",
    "version": 3
   },
   "file_extension": ".py",
   "mimetype": "text/x-python",
   "name": "python",
   "nbconvert_exporter": "python",
   "pygments_lexer": "ipython3",
   "version": "3.6.7"
  }
 },
 "nbformat": 4,
 "nbformat_minor": 2
}
