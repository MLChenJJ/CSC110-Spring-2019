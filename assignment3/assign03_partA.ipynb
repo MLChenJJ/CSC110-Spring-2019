{
 "cells": [
  {
   "cell_type": "markdown",
   "metadata": {},
   "source": [
    "# CSC 110, Summer 2018\n",
    "\n",
    "\n",
    "## Assignment 3\n",
    "\n",
    "\n",
    "**Due: Monday, February 25, 2019, 9:00 am (via submission to conneX)**\n"
   ]
  },
  {
   "cell_type": "code",
   "execution_count": null,
   "metadata": {},
   "outputs": [],
   "source": [
    "# Please change the two comment lines below to indicate your name & student number.\n",
    "# Name: Michael Zastre\n",
    "# Student #: V00654321"
   ]
  },
  {
   "cell_type": "markdown",
   "metadata": {},
   "source": [
    "### Introduction\n",
    "\n",
    "In this assignment you will write some Python statements within this Jupyter Notebook that are answers to the posed programming questions. By saving what you have written into the notebook, and submitting the resulting IPython file via conneX, the teaching team will be able to evaluate your work.\n",
    "\n",
    "You are encouraged to create your own notebooks in order to experiment with programming ideas. Once you have solutions that you wish to submit, they can be copy-and-pasted into this notebook. You should, however, always ensure your Python statements do work by evaluating them within this notebook.\n",
    "\n",
    "** This notebook describes Part A. Part B is in another notebook. **"
   ]
  },
  {
   "cell_type": "markdown",
   "metadata": {},
   "source": [
    "### Part A: A little bit of physics\n",
    "\n",
    "Calculating the distance travelled by a moving object is a common task in physics. For example, if an object is already moving at some initial speed (or **initial velocity**), and then **accelerates** over an interval of **time**, we can calculate the distance travelled by the object as:\n",
    "\n",
    "$$\\textit{d} = V_i \\times t + \\frac{1}{2} \\times a \\times t^2$$\n",
    "\n",
    "That is, $V_i$ is the initial velocity in meters per second ($m/s$), $t$ is time in seconds ($s$), and acceleration $a$ is in meters-per-second squared ($m/s^2$).\n",
    "\n",
    "\n",
    "The code cell below already contains Python statements for prompting the user for input, calling a finished function (which does not yet exist), and printing the returned result.\n",
    "\n",
    "You must write a function named ```dist_with_accel``` within the code cell below."
   ]
  },
  {
   "cell_type": "code",
   "execution_count": 4,
   "metadata": {},
   "outputs": [
    {
     "name": "stdout",
     "output_type": "stream",
     "text": [
      "What is the initial velocity (m/s)? 9.5\n",
      "What is rate of acceleration (m/s^2)? 7.2\n",
      "How many seconds of travel to calculate (s)? 3.14\n",
      "The distance is:  65.32456\n"
     ]
    }
   ],
   "source": [
    "# The following is known as a 'docstring', and in a later lecture\n",
    "# we will explore how it is normally best used to document a\n",
    "# Python function.\n",
    "\n",
    "'''\n",
    "function: dist_with_accel\n",
    "\n",
    "This function calculates the distance travelled by some object\n",
    "that has a (possibly non-zero, possibly negative) initial velocity \n",
    "subject to a (possibly negative, possibly zero, but definitely\n",
    "constant) acceleration over a positive interval of time.\n",
    "\n",
    "Input parameters\n",
    "----------------\n",
    "\n",
    "* initial_velocity: speed at which the object is moving\n",
    "   at time 0 (in meters-per-second).\n",
    "  \n",
    "* acceleration: rate of change of speed of the moving\n",
    "  object (in meters-per-second squared).\n",
    "  \n",
    "* time: number of seconds over which the object is moving\n",
    "  \n",
    "\n",
    "Result value\n",
    "------------\n",
    "\n",
    "* The distance travelled by the moving object given the\n",
    "  initial velocity, acceleration, and time.\n",
    "  \n",
    "  \n",
    "Output\n",
    "------\n",
    "\n",
    "* The function produces no output to the console or to any files.\n",
    "\n",
    "'''\n",
    "\n",
    "#\n",
    "# WRITE THE dist_with_accel FUNCTION IMMEDIATELY BELOW.\n",
    "#\n",
    "def dist_with_accel(initial_velocity, acceleration,time):\n",
    "    return initial_velocity*time+acceleration*time**2/2\n",
    "\n",
    "\n",
    "\n",
    "\n",
    "# DO NOT MODIFY ANYTHING FROM HERE TO THE BOTTOM OF THIS CODE CELL!!\n",
    "\n",
    "# The following main() function prompts the user for required\n",
    "# input, calls the completed function, and then outputs\n",
    "# the result.\n",
    "# \n",
    "# Some sample values and expected results:\n",
    "#   9.5, 7.2, 3.14 --> 65.32456x\n",
    "#   100, -3, 5.6 --> 512.96\n",
    "#   0, 9.8, 100 --> 49000.0\n",
    "\n",
    "def main():\n",
    "    vi = float(input(\"What is the initial velocity (m/s)? \"))\n",
    "    a = float(input(\"What is rate of acceleration (m/s^2)? \"))\n",
    "    t = float(input(\"How many seconds of travel to calculate (s)? \"))\n",
    "\n",
    "    d = dist_with_accel(vi, a, t)\n",
    "\n",
    "    print(\"The distance is: \", d)\n",
    "    \n",
    "main()    "
   ]
  },
  {
   "cell_type": "markdown",
   "metadata": {},
   "source": [
    "## Marks\n",
    "\n",
    "* Part A is worth 4 marks\n",
    "* Part B is worth 6 marks\n",
    "* Total for assignment: 10 marks\n"
   ]
  },
  {
   "cell_type": "markdown",
   "metadata": {},
   "source": [
    "Copyright: 2019, Michael Zastre, University of Victoria, Canada"
   ]
  }
 ],
 "metadata": {
  "kernelspec": {
   "display_name": "Python 3",
   "language": "python",
   "name": "python3"
  },
  "language_info": {
   "codemirror_mode": {
    "name": "ipython",
    "version": 3
   },
   "file_extension": ".py",
   "mimetype": "text/x-python",
   "name": "python",
   "nbconvert_exporter": "python",
   "pygments_lexer": "ipython3",
   "version": "3.6.8"
  }
 },
 "nbformat": 4,
 "nbformat_minor": 2
}
