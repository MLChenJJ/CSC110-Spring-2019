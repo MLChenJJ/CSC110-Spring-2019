{
 "cells": [
  {
   "cell_type": "markdown",
   "metadata": {},
   "source": [
    "# <hi><center>UNIVERSITY OF VICTORIA</xcenter></h1>\n",
    "# <hi><center>Department of Computer Science</xcenter></h1>\n",
    "## <hi><center>CSC 110 Fundamentals of Programming I</xcenter></h1>\n",
    "### <hi><center>Assignment0</xcenter></h1>\n",
    "### <hi><center>Due Date: 19th January 2019</xcenter></h1>"
   ]
  },
  {
   "cell_type": "markdown",
   "metadata": {},
   "source": [
    "This is a practice assignment. There are no marks assigned to this assignment. The purpose of this assignment is to practice writing an assignment in juputer notebook and practice submitting an assignment through connex. Take special note of the following regarding all assignemnts.\n",
    "\n",
    "- Submission through connex is the only acceptable means of submitting assignments. Assignments sent through any other means will not be accepted.\n",
    "- Do NOT change the name of the file required to be submitted. Files with names changed will be given 0 marks. \n",
    "- The template file provided must be used for writing the solution. If the student creates a new file, writes the solution in the new file and then submits the new file, this new file may not be accepted, resulting in 0 marks, or other penaties may be incurred. \n",
    "- Students may NOT change the code provided in the template file and the solution must be written in the space allocated. Changing the code in the template file may result in marks lost and even possibly 0 marks.\n",
    "- Solutions to the assignment problems must be written in the space provided in the assignment template file. Failure to do so, may results in loss of marks.  \n",
    "- Additional instructions will be provided with each assignment. Read the instruction carefully. Marks may be deducted if the instruction are not followed."
   ]
  },
  {
   "cell_type": "code",
   "execution_count": 1,
   "metadata": {},
   "outputs": [
    {
     "name": "stdout",
     "output_type": "stream",
     "text": [
      "University of Victoria\n"
     ]
    }
   ],
   "source": [
    "# Answer the following questions using print statements. For example:\n",
    "# QUESTION 1: What is the name of your University?\n",
    "print(\"University of Victoria\")\n",
    "\n",
    "# Write your solutions in the cell below. Each question is answered in 1 line of code. "
   ]
  },
  {
   "cell_type": "code",
   "execution_count": 1,
   "metadata": {},
   "outputs": [
    {
     "name": "stdout",
     "output_type": "stream",
     "text": [
      "Justin Trudeau\n",
      "Prof. Mike Zastre\n",
      "ECS 123\n",
      "ECS 250\n"
     ]
    }
   ],
   "source": [
    "# QUESTION 2: Who is the prime minister of Canada?\n",
    "print(\"Justin Trudeau\")\n",
    "# QUESTION 3: What is the name of the instructor of this course?\n",
    "print(\"Prof. Mike Zastre\")\n",
    "# QUESTION 4: What room is your CSC 110 lecture being held in? (Use abbreviations like \"ELW 205\" and not the full name like \"Engineering Lab Wing 205\")\n",
    "print(\"ECS 123\")\n",
    "# QUESTION 5: What room is your Lab for CSC 110 being held in? (Use abbreviations like \"ELW 205\" and not the full name like \"Engineering Lab Wing 205\")\n",
    "print(\"ECS 250\")\n"
   ]
  },
  {
   "cell_type": "code",
   "execution_count": null,
   "metadata": {},
   "outputs": [],
   "source": []
  }
 ],
 "metadata": {
  "kernelspec": {
   "display_name": "Python 3",
   "language": "python",
   "name": "python3"
  },
  "language_info": {
   "codemirror_mode": {
    "name": "ipython",
    "version": 3
   },
   "file_extension": ".py",
   "mimetype": "text/x-python",
   "name": "python",
   "nbconvert_exporter": "python",
   "pygments_lexer": "ipython3",
   "version": "3.6.4"
  }
 },
 "nbformat": 4,
 "nbformat_minor": 2
}
